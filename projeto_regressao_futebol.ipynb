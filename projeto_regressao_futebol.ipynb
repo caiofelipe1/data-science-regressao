{
 "cells": [
  {
   "cell_type": "markdown",
   "id": "813fddba",
   "metadata": {},
   "source": [
    "\n",
    "# Projeto: Regressão Linear Simples — Base de Dados de Futebol\n",
    "\n",
    "**Arquivo da base:** `dados-completos-Ituano.csv`\n",
    "\n",
    "## Integrantes do Grupo\n",
    "> Preencha abaixo com os dados dos integrantes (nome completo, RA, e-mail):\n",
    "- Nome 1 — RA — e-mail\n",
    "- Nome 2 — RA — e-mail\n",
    "- Nome 3 — RA — e-mail\n",
    "- Nome 4 — RA — e-mail\n",
    "\n",
    "---\n"
   ]
  },
  {
   "cell_type": "code",
   "execution_count": null,
   "id": "f2779d82",
   "metadata": {},
   "outputs": [],
   "source": [
    "\n",
    "import pandas as pd\n",
    "import numpy as np\n",
    "import matplotlib.pyplot as plt\n",
    "import statsmodels.api as sm\n",
    "\n",
    "# 1) Importar base\n",
    "df = pd.read_csv(\"dados-completos-Ituano.csv\")\n",
    "df.head()\n"
   ]
  },
  {
   "cell_type": "markdown",
   "id": "8f4d6f41",
   "metadata": {},
   "source": [
    "## Inspeção Inicial da Base"
   ]
  },
  {
   "cell_type": "code",
   "execution_count": null,
   "id": "d0a18bec",
   "metadata": {},
   "outputs": [],
   "source": [
    "\n",
    "df.info()\n"
   ]
  },
  {
   "cell_type": "code",
   "execution_count": null,
   "id": "e019dd8b",
   "metadata": {},
   "outputs": [],
   "source": [
    "\n",
    "df.describe(include=\"all\")\n"
   ]
  },
  {
   "cell_type": "markdown",
   "id": "f59d6451",
   "metadata": {},
   "source": [
    "\n",
    "## Seleção das Variáveis (X, Y)\n",
    "\n",
    "Para aplicar a **regressão linear simples**, selecionamos automaticamente o par de colunas **numéricas** com **maior correlação linear (em valor absoluto)**, evitando correlação de uma coluna com ela mesma.\n",
    "\n",
    "> Você pode alterar manualmente as colunas definindo `X_col` e `Y_col` conforme desejar.\n"
   ]
  },
  {
   "cell_type": "code",
   "execution_count": null,
   "id": "73a35084",
   "metadata": {},
   "outputs": [],
   "source": [
    "\n",
    "# Selecionar colunas numéricas\n",
    "numeric_df = df.select_dtypes(include=[np.number]).copy()\n",
    "\n",
    "# Verificar se há ao menos 2 colunas numéricas\n",
    "assert numeric_df.shape[1] >= 2, \"É necessário pelo menos 2 colunas numéricas para regressão linear simples.\"\n",
    "\n",
    "# Matriz de correlação (apenas numérica)\n",
    "corr = numeric_df.corr(numeric_only=True)\n",
    "\n",
    "# Encontrar o par com maior |correlação|\n",
    "corr_unstack = corr.where(~np.eye(corr.shape[0], dtype=bool))\n",
    "abs_corr_long = corr_unstack.abs().stack().sort_values(ascending=False)\n",
    "(Y_col, X_col) = abs_corr_long.index[0]  # Y primeiro, X segundo\n",
    "\n",
    "Y_col, X_col, abs_corr_long.iloc[0]\n"
   ]
  },
  {
   "cell_type": "markdown",
   "id": "25c28578",
   "metadata": {},
   "source": [
    "## Ajuste do Modelo de Regressão Linear Simples"
   ]
  },
  {
   "cell_type": "code",
   "execution_count": null,
   "id": "b795db21",
   "metadata": {},
   "outputs": [],
   "source": [
    "\n",
    "# Preparar dados\n",
    "X = numeric_df[[X_col]].copy()\n",
    "X = sm.add_constant(X)  # intercepto\n",
    "Y = numeric_df[Y_col]\n",
    "\n",
    "# Remover valores ausentes\n",
    "valid = X.notna().all(axis=1) & Y.notna()\n",
    "X = X[valid]\n",
    "Y = Y[valid]\n",
    "\n",
    "# Ajustar modelo OLS\n",
    "model = sm.OLS(Y, X).fit()\n",
    "model.summary()\n"
   ]
  },
  {
   "cell_type": "markdown",
   "id": "053f8f23",
   "metadata": {},
   "source": [
    "## Intervalos de Confiança (IC) dos Parâmetros"
   ]
  },
  {
   "cell_type": "code",
   "execution_count": null,
   "id": "88474798",
   "metadata": {},
   "outputs": [],
   "source": [
    "\n",
    "conf_int = model.conf_int(alpha=0.05)\n",
    "conf_int.columns = [\"IC_2.5%\", \"IC_97.5%\"]\n",
    "conf_int\n"
   ]
  },
  {
   "cell_type": "markdown",
   "id": "d594dab6",
   "metadata": {},
   "source": [
    "\n",
    "**Descrição das saídas principais:**\n",
    "- **coef**: estimativas dos parâmetros (intercepto e inclinação).\n",
    "- **std err**: erro padrão das estimativas.\n",
    "- **t**, **P>|t|**: estatística de teste t e p-valor (teste de hipótese H0: parâmetro = 0).\n",
    "- **[0.025, 0.975]**: intervalos de confiança de 95% para os parâmetros.\n",
    "- **R-squared**: coeficiente de determinação; proporção da variabilidade de `Y` explicada por `X`.\n",
    "- **Adj. R-squared**: R² ajustado (para múltiplas variáveis, aqui é igual/semelhante).\n",
    "- **F-statistic** e **Prob (F-statistic)**: teste conjunto do modelo (para regressão simples\n",
    "  coincide com o teste t do coeficiente de inclinação).\n",
    "- **Omnibus**, **Jarque-Bera**: testes de normalidade dos resíduos.\n",
    "- **Durbin-Watson**: autocorrelação dos resíduos (ideal próximo de 2).\n"
   ]
  },
  {
   "cell_type": "markdown",
   "id": "fe6cf6ec",
   "metadata": {},
   "source": [
    "## Gráfico de Dispersão com a Reta de Regressão"
   ]
  },
  {
   "cell_type": "code",
   "execution_count": null,
   "id": "212d70ec",
   "metadata": {},
   "outputs": [],
   "source": [
    "\n",
    "plt.figure()\n",
    "plt.scatter(X[X_col], Y)\n",
    "x_vals = np.linspace(X[X_col].min(), X[X_col].max(), 200)\n",
    "y_hat = model.params[\"const\"] + model.params[X_col] * x_vals\n",
    "plt.plot(x_vals, y_hat)\n",
    "plt.xlabel(X_col)\n",
    "plt.ylabel(Y_col)\n",
    "plt.title(f\"Dispersão com reta de regressão: {Y_col} ~ {X_col}\")\n",
    "plt.show()\n"
   ]
  },
  {
   "cell_type": "markdown",
   "id": "998adb81",
   "metadata": {},
   "source": [
    "## Diagnóstico Rápido dos Resíduos (Opcional)"
   ]
  },
  {
   "cell_type": "code",
   "execution_count": null,
   "id": "ec37899e",
   "metadata": {},
   "outputs": [],
   "source": [
    "\n",
    "res = model.resid\n",
    "fitted = model.fittedvalues\n",
    "\n",
    "# Plot dos resíduos vs valores ajustados\n",
    "plt.figure()\n",
    "plt.scatter(fitted, res)\n",
    "plt.axhline(0)\n",
    "plt.xlabel(\"Valores ajustados\")\n",
    "plt.ylabel(\"Resíduos\")\n",
    "plt.title(\"Resíduos vs. Ajustados\")\n",
    "plt.show()\n",
    "\n",
    "# Histograma dos resíduos\n",
    "plt.figure()\n",
    "plt.hist(res.dropna(), bins=20)\n",
    "plt.title(\"Histograma dos Resíduos\")\n",
    "plt.xlabel(\"Resíduo\")\n",
    "plt.ylabel(\"Frequência\")\n",
    "plt.show()\n"
   ]
  }
 ],
 "metadata": {},
 "nbformat": 4,
 "nbformat_minor": 5
}
